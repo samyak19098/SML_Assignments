{
 "cells": [
  {
   "cell_type": "code",
   "execution_count": 69,
   "metadata": {},
   "outputs": [],
   "source": [
    "import numpy as np\n",
    "import pickle\n",
    "import matplotlib.pyplot as plt\n",
    "import gzip\n",
    "from sklearn.preprocessing import StandardScaler\n",
    "from sklearn.tree import DecisionTreeClassifier\n",
    "from tqdm import tqdm"
   ]
  },
  {
   "cell_type": "code",
   "execution_count": 70,
   "metadata": {},
   "outputs": [],
   "source": [
    "#dataset reading code is used as taught in the tutorial\n",
    "def read_image_data(file):\n",
    "    with gzip.open(file, 'r') as f:\n",
    "        magic_number = int.from_bytes(f.read(4), 'big')\n",
    "        image_count = int.from_bytes(f.read(4), 'big')\n",
    "        row_count = int.from_bytes(f.read(4), 'big')\n",
    "        column_count = int.from_bytes(f.read(4), 'big')\n",
    "        image_data = f.read()\n",
    "        images = np.frombuffer(image_data, dtype=np.uint8).reshape((image_count, row_count, column_count))\n",
    "        return images\n",
    "def read_label_data(file):\n",
    "    with gzip.open(file, 'r') as f:\n",
    "        magic_number = int.from_bytes(f.read(4), 'big')\n",
    "        label_count = int.from_bytes(f.read(4), 'big')\n",
    "        label_data = f.read()\n",
    "        labels = np.frombuffer(label_data, dtype=np.uint8)\n",
    "        return labels\n",
    "train_x = read_image_data(\"./data/mnist/train-images-idx3-ubyte.gz\")\n",
    "train_y = read_label_data(\"./data/mnist/train-labels-idx1-ubyte.gz\")\n",
    "test_x = read_image_data(\"./data/mnist/t10k-images-idx3-ubyte.gz\")\n",
    "test_y = read_label_data(\"./data/mnist/t10k-labels-idx1-ubyte.gz\")"
   ]
  },
  {
   "cell_type": "code",
   "execution_count": 71,
   "metadata": {},
   "outputs": [],
   "source": [
    "train_x_reshaped = train_x.reshape((train_x.shape[0], train_x.shape[1]*train_x.shape[2]))\n",
    "test_x_reshaped = test_x.reshape((test_x.shape[0], test_x.shape[1]*test_x.shape[2]))"
   ]
  },
  {
   "cell_type": "code",
   "execution_count": 72,
   "metadata": {},
   "outputs": [
    {
     "name": "stdout",
     "output_type": "stream",
     "text": [
      "train_x : (60000, 784)\n",
      "test_x : (10000, 784)\n",
      "train_y : (60000,)\n",
      "test_y : (10000,)\n"
     ]
    }
   ],
   "source": [
    "print(f\"train_x : {train_x_reshaped.shape}\")\n",
    "print(f\"test_x : {test_x_reshaped.shape}\")\n",
    "print(f\"train_y : {train_y.shape}\")\n",
    "print(f\"test_y : {test_y.shape}\")"
   ]
  },
  {
   "cell_type": "code",
   "execution_count": 73,
   "metadata": {},
   "outputs": [
    {
     "name": "stdout",
     "output_type": "stream",
     "text": [
      "Labels : [0 1 2 3 4 5 6 7 8 9]\n"
     ]
    }
   ],
   "source": [
    "labels = np.unique(train_y)\n",
    "print(f\"Labels : {labels}\")"
   ]
  },
  {
   "cell_type": "code",
   "execution_count": 74,
   "metadata": {},
   "outputs": [
    {
     "data": {
      "image/png": "[encoded data removed]",
      "text/plain": [
       "<Figure size 432x288 with 1 Axes>"
      ]
     },
     "metadata": {
      "needs_background": "light"
     },
     "output_type": "display_data"
    }
   ],
   "source": [
    "# Plotting and seeing the data\n",
    "plt.imshow(train_x[0])\n",
    "plt.show()"
   ]
  },
  {
   "cell_type": "code",
   "execution_count": 75,
   "metadata": {},
   "outputs": [],
   "source": [
    "def compute_accuracy(y_true, y_pred):\n",
    "    correct_classif = 0\n",
    "    total = len(y_true)\n",
    "    for i in range(total):\n",
    "        if(y_true[i] == y_pred[i]):\n",
    "            correct_classif += 1\n",
    "    return correct_classif / total"
   ]
  },
  {
   "cell_type": "code",
   "execution_count": 76,
   "metadata": {},
   "outputs": [
    {
     "name": "stderr",
     "output_type": "stream",
     "text": [
      "100%|██████████| 2/2 [00:50<00:00, 25.35s/it]"
     ]
    },
    {
     "name": "stdout",
     "output_type": "stream",
     "text": [
      "Accuracy = {'gini': 0.8794, 'entropy': 0.8873}\n"
     ]
    },
    {
     "name": "stderr",
     "output_type": "stream",
     "text": [
      "\n"
     ]
    }
   ],
   "source": [
    "criterions = ['gini', 'entropy']\n",
    "accs = {}\n",
    "for ct in tqdm(criterions):\n",
    "    clf = DecisionTreeClassifier(criterion=ct)\n",
    "    clf.fit(train_x_reshaped, train_y)\n",
    "    preds = clf.predict(test_x_reshaped)\n",
    "    accuracy = compute_accuracy(test_y, preds)\n",
    "    accs[ct] = accuracy\n",
    "print(f\"Accuracy = {accs}\")\n",
    "if(accs['gini'] > accs['entropy']):\n",
    "    final_criterion = 'gini'\n",
    "else:\n",
    "    final_criterion = 'entropy'"
   ]
  },
  {
   "cell_type": "code",
   "execution_count": 77,
   "metadata": {},
   "outputs": [
    {
     "name": "stdout",
     "output_type": "stream",
     "text": [
      "Final criterion = entropy\n"
     ]
    }
   ],
   "source": [
    "print(f\"Final criterion = {final_criterion}\")"
   ]
  },
  {
   "cell_type": "code",
   "execution_count": 78,
   "metadata": {},
   "outputs": [],
   "source": [
    "bootstrapped_x = []\n",
    "bootstrapped_y = []\n",
    "n_samples = train_x_reshaped.shape[0]\n",
    "num_bootstrap = 3\n",
    "\n",
    "for i in range(num_bootstrap):\n",
    "    sample_indexes = np.random.choice(n_samples, replace=True, size=n_samples)\n",
    "    bootstrap_x_i = train_x_reshaped[sample_indexes, :]\n",
    "    bootstrap_y_i = train_y[sample_indexes]\n",
    "    bootstrapped_x.append(bootstrap_x_i)\n",
    "    bootstrapped_y.append(bootstrap_y_i)"
   ]
  },
  {
   "cell_type": "code",
   "execution_count": 79,
   "metadata": {},
   "outputs": [
    {
     "name": "stderr",
     "output_type": "stream",
     "text": [
      "100%|██████████| 3/3 [00:46<00:00, 15.65s/it]\n"
     ]
    }
   ],
   "source": [
    "bootstrap_classifiers = []\n",
    "for i in tqdm(range(num_bootstrap)):\n",
    "    bootstrap_clf = DecisionTreeClassifier(criterion=final_criterion)\n",
    "    bootstrap_clf.fit(bootstrapped_x[i], bootstrapped_y[i])\n",
    "    bootstrap_classifiers.append(bootstrap_clf)"
   ]
  },
  {
   "cell_type": "code",
   "execution_count": 80,
   "metadata": {},
   "outputs": [
    {
     "data": {
      "text/plain": [
       "[DecisionTreeClassifier(criterion='entropy'),\n",
       " DecisionTreeClassifier(criterion='entropy'),\n",
       " DecisionTreeClassifier(criterion='entropy')]"
      ]
     },
     "execution_count": 80,
     "metadata": {},
     "output_type": "execute_result"
    }
   ],
   "source": [
    "bootstrap_classifiers"
   ]
  },
  {
   "cell_type": "code",
   "execution_count": 81,
   "metadata": {},
   "outputs": [],
   "source": [
    "def majority_voting(preds):\n",
    "    preds = np.array(preds)\n",
    "    print(f\"Shape of preds : {preds.shape}\")\n",
    "    final_prediction = []\n",
    "    for i in range(preds.shape[1]):\n",
    "        label, counts = np.unique(preds[:, i], return_counts=True)\n",
    "        final_pred = label[np.argmax(counts)]\n",
    "        final_prediction.append(final_pred)\n",
    "    print(f\"Length final_prediction : {len(final_prediction)}\")\n",
    "    return final_prediction"
   ]
  },
  {
   "cell_type": "code",
   "execution_count": 82,
   "metadata": {},
   "outputs": [],
   "source": [
    "def predict(test_x, bootstrap_classifiers):\n",
    "    preds = []\n",
    "    for i in range(len(bootstrap_classifiers)):\n",
    "        preds_i = bootstrap_classifiers[i].predict(test_x)\n",
    "        preds.append(preds_i)\n",
    "    final_preds = majority_voting(preds)\n",
    "    return final_preds"
   ]
  },
  {
   "cell_type": "code",
   "execution_count": 83,
   "metadata": {},
   "outputs": [
    {
     "name": "stdout",
     "output_type": "stream",
     "text": [
      "Shape of preds : (3, 10000)\n",
      "Length final_prediction : 10000\n"
     ]
    }
   ],
   "source": [
    "final_predictions = predict(test_x_reshaped, bootstrap_classifiers)"
   ]
  },
  {
   "cell_type": "code",
   "execution_count": 84,
   "metadata": {},
   "outputs": [
    {
     "name": "stdout",
     "output_type": "stream",
     "text": [
      "\n",
      "Overall accuracy = 0.9122\n",
      "\n",
      "-------------\n",
      "\n",
      "Class-wise accuracy for class-0 : 0.9816326530612245\n",
      "Class-wise accuracy for class-1 : 0.9885462555066079\n",
      "Class-wise accuracy for class-2 : 0.9147286821705426\n",
      "Class-wise accuracy for class-3 : 0.8960396039603961\n",
      "Class-wise accuracy for class-4 : 0.905295315682281\n",
      "Class-wise accuracy for class-5 : 0.875560538116592\n",
      "Class-wise accuracy for class-6 : 0.907098121085595\n",
      "Class-wise accuracy for class-7 : 0.9202334630350194\n",
      "Class-wise accuracy for class-8 : 0.8429158110882957\n",
      "Class-wise accuracy for class-9 : 0.8751238850346879\n"
     ]
    }
   ],
   "source": [
    "overall_accuracy = compute_accuracy(test_y, final_predictions)\n",
    "print(f\"\\nOverall accuracy = {overall_accuracy}\\n\\n-------------\\n\")\n",
    "\n",
    "# #Class-wise-accuracy\n",
    "class_wise_accuracy = {}\n",
    "for lab in labels:\n",
    "    class_idxs = np.where(test_y == lab)[0]\n",
    "    true_labs = test_y[class_idxs]\n",
    "    pred_labs = np.array(final_predictions)[class_idxs]\n",
    "    class_wise_accuracy[lab] = compute_accuracy(true_labs, pred_labs)\n",
    "for lab in class_wise_accuracy.keys():\n",
    "    print(f\"Class-wise accuracy for class-{lab} : {class_wise_accuracy[lab]}\")"
   ]
  }
 ],
 "metadata": {
  "interpreter": {
   "hash": "9127569dbd0fc69c715914636958ae6b84dec689d76cbced987745edd2c8484f"
  },
  "kernelspec": {
   "display_name": "Python 3.8.10 64-bit",
   "language": "python",
   "name": "python3"
  },
  "language_info": {
   "codemirror_mode": {
    "name": "ipython",
    "version": 3
   },
   "file_extension": ".py",
   "mimetype": "text/x-python",
   "name": "python",
   "nbconvert_exporter": "python",
   "pygments_lexer": "ipython3",
   "version": "3.8.10"
  },
  "orig_nbformat": 4
 },
 "nbformat": 4,
 "nbformat_minor": 2
}
