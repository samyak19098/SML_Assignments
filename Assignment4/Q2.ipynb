{
 "cells": [
  {
   "cell_type": "code",
   "execution_count": 42,
   "metadata": {},
   "outputs": [],
   "source": [
    "import numpy as np\n",
    "import pandas as pd\n",
    "import pickle\n",
    "import matplotlib.pyplot as plt\n",
    "import gzip\n",
    "import warnings\n",
    "warnings.filterwarnings(\"ignore\", category=np.VisibleDeprecationWarning)\n",
    "import torch\n",
    "from tensorflow.keras.models import Sequential, load_model\n",
    "from tensorflow.keras import layers\n",
    "from tensorflow.keras import optimizers\n",
    "from tensorflow.keras import initializers\n",
    "from tensorflow.keras.utils import to_categorical\n",
    "from tensorflow.keras import utils\n",
    "from sklearn.preprocessing import StandardScaler\n",
    "import tensorflow.keras as keras"
   ]
  },
  {
   "cell_type": "code",
   "execution_count": 43,
   "metadata": {},
   "outputs": [],
   "source": [
    "train_data = pd.read_csv(\"./data/fmnist/fashion-mnist_train.csv\")\n",
    "test_data = pd.read_csv(\"./data/fmnist/fashion-mnist_test.csv\")"
   ]
  },
  {
   "cell_type": "code",
   "execution_count": 44,
   "metadata": {},
   "outputs": [],
   "source": [
    "train_x = np.array(train_data.iloc[:,1:])\n",
    "train_y = np.array(train_data.iloc[:, 0])\n",
    "test_x = np.array(test_data.iloc[:, 1:])\n",
    "test_y = np.array(test_data.iloc[:,0])\n",
    "labels_to_name = { 0:\"T-shirt/top\", 1 :\"Trouser\", 2 :\"Pullover\", 3 :\"Dress\", 4 :\"Coat\", 5 :\"Sandal\", 6 :\"Shirt\", 7 :\"Sneaker\", 8 :\"Bag\", 9 :\"Ankle boot\"}"
   ]
  },
  {
   "cell_type": "code",
   "execution_count": 45,
   "metadata": {},
   "outputs": [
    {
     "data": {
      "image/png": "[encoded data removed]",
      "text/plain": [
       "<Figure size 432x288 with 1 Axes>"
      ]
     },
     "metadata": {
      "needs_background": "light"
     },
     "output_type": "display_data"
    }
   ],
   "source": [
    "# Plotting and seeing the data\n",
    "plt.imshow(train_x[1].reshape((28, 28)))\n",
    "plt.show()"
   ]
  },
  {
   "cell_type": "code",
   "execution_count": 46,
   "metadata": {},
   "outputs": [],
   "source": [
    "# train_x = train_x / 255\n",
    "# test_x = test_x / 255"
   ]
  },
  {
   "cell_type": "code",
   "execution_count": 47,
   "metadata": {},
   "outputs": [],
   "source": [
    "def compute_accuracy(y_true, y_pred):\n",
    "    correct_classif = 0\n",
    "    total = len(y_true)\n",
    "    for i in range(total):\n",
    "        if(y_true[i] == y_pred[i]):\n",
    "            correct_classif += 1\n",
    "    return correct_classif / total"
   ]
  },
  {
   "cell_type": "code",
   "execution_count": 48,
   "metadata": {},
   "outputs": [],
   "source": [
    "model = Sequential()\n",
    "model.add(layers.Input())\n",
    "model.add(layers.Dense(256, kernel_initializer='random_normal', activation='relu', use_bias=True))\n",
    "model.add(layers.Dense(128, kernel_initializer='random_normal', activation='relu', use_bias=True))\n",
    "model.add(layers.Dense(64, kernel_initializer='random_normal', activation='relu', use_bias=True))\n",
    "model.add(layers.Dense(10, kernel_initializer='random_normal', activation='softmax', use_bias=True))"
   ]
  },
  {
   "cell_type": "code",
   "execution_count": 49,
   "metadata": {},
   "outputs": [
    {
     "name": "stderr",
     "output_type": "stream",
     "text": [
      "c:\\Users\\Samyak Jain\\AppData\\Local\\Programs\\Python\\Python38\\lib\\site-packages\\keras\\optimizer_v2\\gradient_descent.py:102: UserWarning: The `lr` argument is deprecated, use `learning_rate` instead.\n",
      "  super(SGD, self).__init__(name, **kwargs)\n"
     ]
    }
   ],
   "source": [
    "sgd = optimizers.SGD(lr=1e-3)"
   ]
  },
  {
   "cell_type": "code",
   "execution_count": 28,
   "metadata": {},
   "outputs": [],
   "source": [
    "# model_input = layers.Input(784, )\n",
    "# model_output = model(model_input)\n",
    "# feedforward_model = keras.Model(inputs=model_input, outputs=model_output)"
   ]
  },
  {
   "cell_type": "code",
   "execution_count": 50,
   "metadata": {},
   "outputs": [],
   "source": [
    "model.compile(\n",
    "    optimizer = sgd,\n",
    "    loss = 'categorical_crossentropy',\n",
    "    metrics=['accuracy']\n",
    ")"
   ]
  },
  {
   "cell_type": "code",
   "execution_count": 29,
   "metadata": {},
   "outputs": [],
   "source": [
    "# feedforward_model.summary()"
   ]
  },
  {
   "cell_type": "code",
   "execution_count": 63,
   "metadata": {},
   "outputs": [
    {
     "name": "stdout",
     "output_type": "stream",
     "text": [
      "Epoch 1/50\n",
      "938/938 [==============================] - 6s 6ms/step - loss: 0.1851 - accuracy: 0.9325\n",
      "Epoch 2/50\n",
      "938/938 [==============================] - 6s 6ms/step - loss: 0.1827 - accuracy: 0.9339\n",
      "Epoch 3/50\n",
      "938/938 [==============================] - 6s 6ms/step - loss: 0.1799 - accuracy: 0.9341\n",
      "Epoch 4/50\n",
      "938/938 [==============================] - 6s 6ms/step - loss: 0.1777 - accuracy: 0.9351\n",
      "Epoch 5/50\n",
      "938/938 [==============================] - 6s 6ms/step - loss: 0.1756 - accuracy: 0.9361\n",
      "Epoch 6/50\n",
      "938/938 [==============================] - 6s 6ms/step - loss: 0.1733 - accuracy: 0.9373\n",
      "Epoch 7/50\n",
      "938/938 [==============================] - 6s 6ms/step - loss: 0.1705 - accuracy: 0.9386\n",
      "Epoch 8/50\n",
      "938/938 [==============================] - 6s 6ms/step - loss: 0.1695 - accuracy: 0.9393\n",
      "Epoch 9/50\n",
      "938/938 [==============================] - 6s 6ms/step - loss: 0.1660 - accuracy: 0.9404\n",
      "Epoch 10/50\n",
      "938/938 [==============================] - 6s 6ms/step - loss: 0.1651 - accuracy: 0.9410\n",
      "Epoch 11/50\n",
      "938/938 [==============================] - 6s 6ms/step - loss: 0.1618 - accuracy: 0.9416\n",
      "Epoch 12/50\n",
      "938/938 [==============================] - 6s 6ms/step - loss: 0.1606 - accuracy: 0.9419\n",
      "Epoch 13/50\n",
      "938/938 [==============================] - 6s 6ms/step - loss: 0.1572 - accuracy: 0.9441\n",
      "Epoch 14/50\n",
      "938/938 [==============================] - 6s 6ms/step - loss: 0.1557 - accuracy: 0.9440\n",
      "Epoch 15/50\n",
      "938/938 [==============================] - 6s 6ms/step - loss: 0.1524 - accuracy: 0.9451\n",
      "Epoch 16/50\n",
      "938/938 [==============================] - 6s 6ms/step - loss: 0.1517 - accuracy: 0.9448\n",
      "Epoch 17/50\n",
      "938/938 [==============================] - 6s 6ms/step - loss: 0.1499 - accuracy: 0.9463\n",
      "Epoch 18/50\n",
      "938/938 [==============================] - 6s 6ms/step - loss: 0.1478 - accuracy: 0.9478\n",
      "Epoch 19/50\n",
      "938/938 [==============================] - 6s 6ms/step - loss: 0.1462 - accuracy: 0.9477\n",
      "Epoch 20/50\n",
      "938/938 [==============================] - 6s 6ms/step - loss: 0.1427 - accuracy: 0.9492\n",
      "Epoch 21/50\n",
      "938/938 [==============================] - 6s 6ms/step - loss: 0.1418 - accuracy: 0.9494\n",
      "Epoch 22/50\n",
      "938/938 [==============================] - 6s 6ms/step - loss: 0.1398 - accuracy: 0.9498\n",
      "Epoch 23/50\n",
      "938/938 [==============================] - 6s 6ms/step - loss: 0.1387 - accuracy: 0.9501\n",
      "Epoch 24/50\n",
      "938/938 [==============================] - 6s 6ms/step - loss: 0.1362 - accuracy: 0.9518\n",
      "Epoch 25/50\n",
      "938/938 [==============================] - 6s 6ms/step - loss: 0.1347 - accuracy: 0.9526\n",
      "Epoch 26/50\n",
      "938/938 [==============================] - 6s 6ms/step - loss: 0.1322 - accuracy: 0.9530\n",
      "Epoch 27/50\n",
      "938/938 [==============================] - 6s 6ms/step - loss: 0.1285 - accuracy: 0.9555\n",
      "Epoch 28/50\n",
      "938/938 [==============================] - 6s 6ms/step - loss: 0.1291 - accuracy: 0.9550\n",
      "Epoch 29/50\n",
      "938/938 [==============================] - 6s 6ms/step - loss: 0.1265 - accuracy: 0.9561\n",
      "Epoch 30/50\n",
      "938/938 [==============================] - 6s 6ms/step - loss: 0.1244 - accuracy: 0.9563\n",
      "Epoch 31/50\n",
      "938/938 [==============================] - 6s 6ms/step - loss: 0.1233 - accuracy: 0.9563\n",
      "Epoch 32/50\n",
      "938/938 [==============================] - 6s 7ms/step - loss: 0.1213 - accuracy: 0.9573\n",
      "Epoch 33/50\n",
      "938/938 [==============================] - 6s 6ms/step - loss: 0.1178 - accuracy: 0.9589\n",
      "Epoch 34/50\n",
      "938/938 [==============================] - 6s 6ms/step - loss: 0.1184 - accuracy: 0.9584\n",
      "Epoch 35/50\n",
      "938/938 [==============================] - 6s 6ms/step - loss: 0.1167 - accuracy: 0.9593\n",
      "Epoch 36/50\n",
      "938/938 [==============================] - 6s 6ms/step - loss: 0.1153 - accuracy: 0.9597\n",
      "Epoch 37/50\n",
      "938/938 [==============================] - 6s 6ms/step - loss: 0.1131 - accuracy: 0.9603\n",
      "Epoch 38/50\n",
      "938/938 [==============================] - 7s 7ms/step - loss: 0.1112 - accuracy: 0.9603\n",
      "Epoch 39/50\n",
      "938/938 [==============================] - 7s 7ms/step - loss: 0.1102 - accuracy: 0.9614\n",
      "Epoch 40/50\n",
      "938/938 [==============================] - 6s 6ms/step - loss: 0.1083 - accuracy: 0.9616\n",
      "Epoch 41/50\n",
      "938/938 [==============================] - 6s 6ms/step - loss: 0.1064 - accuracy: 0.9622\n",
      "Epoch 42/50\n",
      "938/938 [==============================] - 6s 6ms/step - loss: 0.1057 - accuracy: 0.9627\n",
      "Epoch 43/50\n",
      "938/938 [==============================] - 6s 6ms/step - loss: 0.1046 - accuracy: 0.9627\n",
      "Epoch 44/50\n",
      "938/938 [==============================] - 6s 6ms/step - loss: 0.1018 - accuracy: 0.9650\n",
      "Epoch 45/50\n",
      "938/938 [==============================] - 5s 6ms/step - loss: 0.1008 - accuracy: 0.9651\n",
      "Epoch 46/50\n",
      "938/938 [==============================] - 5s 6ms/step - loss: 0.0994 - accuracy: 0.9658\n",
      "Epoch 47/50\n",
      "938/938 [==============================] - 5s 5ms/step - loss: 0.0978 - accuracy: 0.9663\n",
      "Epoch 48/50\n",
      "938/938 [==============================] - 5s 6ms/step - loss: 0.0966 - accuracy: 0.9663\n",
      "Epoch 49/50\n",
      "938/938 [==============================] - 6s 7ms/step - loss: 0.0953 - accuracy: 0.9677\n",
      "Epoch 50/50\n",
      "938/938 [==============================] - 7s 7ms/step - loss: 0.0935 - accuracy: 0.9678\n"
     ]
    }
   ],
   "source": [
    "history = model.fit(\n",
    "  train_x,\n",
    "  to_categorical(train_y),\n",
    "  epochs=50,\n",
    "  batch_size=64,\n",
    ")"
   ]
  },
  {
   "cell_type": "code",
   "execution_count": 54,
   "metadata": {},
   "outputs": [
    {
     "data": {
      "image/png": "[encoded data removed]",
      "text/plain": [
       "<Figure size 432x288 with 1 Axes>"
      ]
     },
     "metadata": {
      "needs_background": "light"
     },
     "output_type": "display_data"
    }
   ],
   "source": [
    "train_losses = history.history['loss']\n",
    "plt.plot([i for i in range(50)], train_losses)\n",
    "plt.xlabel('Epochs')\n",
    "plt.ylabel('Training loss Value')\n",
    "plt.title('Training loss vs epochs curve')\n",
    "plt.savefig('./plots/q2_lossplot.png', facecolor='w', bbox_inches='tight')"
   ]
  },
  {
   "cell_type": "code",
   "execution_count": 55,
   "metadata": {},
   "outputs": [
    {
     "name": "stdout",
     "output_type": "stream",
     "text": [
      "INFO:tensorflow:Assets written to: ./models/q2\\assets\n"
     ]
    }
   ],
   "source": [
    "model.save('./models/q2')"
   ]
  },
  {
   "cell_type": "code",
   "execution_count": 56,
   "metadata": {},
   "outputs": [],
   "source": [
    "trained_model = load_model('./models/q2')"
   ]
  },
  {
   "cell_type": "code",
   "execution_count": 57,
   "metadata": {},
   "outputs": [],
   "source": [
    "test_output = trained_model.predict(test_x)"
   ]
  },
  {
   "cell_type": "code",
   "execution_count": 58,
   "metadata": {},
   "outputs": [],
   "source": [
    "final_predictions = np.argmax(test_output, axis=1)"
   ]
  },
  {
   "cell_type": "code",
   "execution_count": 59,
   "metadata": {},
   "outputs": [
    {
     "data": {
      "text/plain": [
       "array([0, 1, 6, ..., 8, 8, 1], dtype=int64)"
      ]
     },
     "execution_count": 59,
     "metadata": {},
     "output_type": "execute_result"
    }
   ],
   "source": [
    "final_predictions"
   ]
  },
  {
   "cell_type": "code",
   "execution_count": 62,
   "metadata": {},
   "outputs": [
    {
     "name": "stdout",
     "output_type": "stream",
     "text": [
      "\n",
      "Overall accuracy = 0.8772\n",
      "\n",
      "-------------\n",
      "\n",
      "Class-wise accuracy for class-0 : 0.772\n",
      "Class-wise accuracy for class-1 : 0.975\n",
      "Class-wise accuracy for class-2 : 0.79\n",
      "Class-wise accuracy for class-3 : 0.892\n",
      "Class-wise accuracy for class-4 : 0.865\n",
      "Class-wise accuracy for class-5 : 0.922\n",
      "Class-wise accuracy for class-6 : 0.701\n",
      "Class-wise accuracy for class-7 : 0.967\n",
      "Class-wise accuracy for class-8 : 0.951\n",
      "Class-wise accuracy for class-9 : 0.937\n"
     ]
    }
   ],
   "source": [
    "overall_accuracy = compute_accuracy(test_y, final_predictions)\n",
    "print(f\"\\nOverall accuracy = {overall_accuracy}\\n\\n-------------\\n\")\n",
    "\n",
    "# #Class-wise-accuracy\n",
    "class_wise_accuracy = {}\n",
    "for lab in labels_to_name.keys():\n",
    "    class_idxs = np.where(test_y == lab)[0]\n",
    "    true_labs = test_y[class_idxs]\n",
    "    pred_labs = np.array(final_predictions)[class_idxs]\n",
    "    class_wise_accuracy[lab] = compute_accuracy(true_labs, pred_labs)\n",
    "for lab in class_wise_accuracy.keys():\n",
    "    print(f\"Class-wise accuracy for class-{lab} : {class_wise_accuracy[lab]}\")"
   ]
  }
 ],
 "metadata": {
  "interpreter": {
   "hash": "9127569dbd0fc69c715914636958ae6b84dec689d76cbced987745edd2c8484f"
  },
  "kernelspec": {
   "display_name": "Python 3.8.10 64-bit",
   "language": "python",
   "name": "python3"
  },
  "language_info": {
   "codemirror_mode": {
    "name": "ipython",
    "version": 3
   },
   "file_extension": ".py",
   "mimetype": "text/x-python",
   "name": "python",
   "nbconvert_exporter": "python",
   "pygments_lexer": "ipython3",
   "version": "3.8.10"
  },
  "orig_nbformat": 4
 },
 "nbformat": 4,
 "nbformat_minor": 2
}
