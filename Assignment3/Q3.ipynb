{
 "cells": [
  {
   "cell_type": "code",
   "execution_count": 108,
   "metadata": {},
   "outputs": [],
   "source": [
    "import numpy as np\n",
    "import pandas as pd\n",
    "from sklearn.discriminant_analysis import LinearDiscriminantAnalysis as LDA\n",
    "import pickle\n",
    "import matplotlib.pyplot as plt\n",
    "import gzip\n",
    "import warnings\n",
    "warnings.filterwarnings(\"ignore\", category=np.VisibleDeprecationWarning)\n",
    "from sklearn.preprocessing import StandardScaler"
   ]
  },
  {
   "cell_type": "code",
   "execution_count": 109,
   "metadata": {},
   "outputs": [],
   "source": [
    "train_data = pd.read_csv(\"./data/fmnist/fashion-mnist_train.csv\")\n",
    "test_data = pd.read_csv(\"./data/fmnist/fashion-mnist_test.csv\")"
   ]
  },
  {
   "cell_type": "code",
   "execution_count": 110,
   "metadata": {},
   "outputs": [],
   "source": [
    "train_x = np.array(train_data.iloc[:,1:])\n",
    "train_y = np.array(train_data.iloc[:, 0])\n",
    "test_x = np.array(test_data.iloc[:, 1:])\n",
    "test_y = np.array(test_data.iloc[:,0])\n",
    "labels_to_name = { 0:\"T-shirt/top\", 1 :\"Trouser\", 2 :\"Pullover\", 3 :\"Dress\", 4 :\"Coat\", 5 :\"Sandal\", 6 :\"Shirt\", 7 :\"Sneaker\", 8 :\"Bag\", 9 :\"Ankle boot\"}"
   ]
  },
  {
   "cell_type": "code",
   "execution_count": 111,
   "metadata": {},
   "outputs": [],
   "source": [
    "# train_x = StandardScaler().fit_transform(train_x)\n",
    "# test_x = StandardScaler().fit_transform(test_x)"
   ]
  },
  {
   "cell_type": "code",
   "execution_count": 112,
   "metadata": {},
   "outputs": [],
   "source": [
    "def get_class_wise_data(train_x, train_y):\n",
    "    class_wise_data = []\n",
    "    \n",
    "    for label in range(10):\n",
    "        # print(label)\n",
    "        label_idx = list(np.where(train_y == label)[0])\n",
    "        # print(f\"label_idx = {len(label_idx)}\")\n",
    "        class_x_data = train_x[label_idx].T\n",
    "        # print(f\"class_x = {class_x_data.shape}\")\n",
    "        class_wise_data.append(class_x_data)\n",
    "    total_X_matrix = np.array(class_wise_data[0])\n",
    "    # print(f\"INITIAL : {total_X_matrix.shape}\")\n",
    "    for label in range(1, 10):\n",
    "        # print(class_wise_data[label].shape)\n",
    "        total_X_matrix = np.concatenate((total_X_matrix, class_wise_data[label]), axis=1)\n",
    "        # print(f\"AFTER : {total_X_matrix.shape}\" )\n",
    "        \n",
    "    return class_wise_data, total_X_matrix"
   ]
  },
  {
   "cell_type": "code",
   "execution_count": 113,
   "metadata": {},
   "outputs": [],
   "source": [
    "def get_class_wise_means(class_wise_x_train):\n",
    "    class_wise_means = []\n",
    "    for i in range(len(class_wise_x_train)):\n",
    "        mean_x_i = np.mean(class_wise_x_train[i], axis=1)\n",
    "        mean_x_i = mean_x_i.reshape(mean_x_i.shape[0], 1)\n",
    "        class_wise_means.append(mean_x_i)\n",
    "    return class_wise_means"
   ]
  },
  {
   "cell_type": "code",
   "execution_count": 114,
   "metadata": {},
   "outputs": [],
   "source": [
    "def get_S_w(class_wise_x_train, class_wise_means):\n",
    "    num_classes = len(class_wise_x_train)\n",
    "    num_features = class_wise_means[0].shape[0]\n",
    "    # print(f\"Num classes = {num_classes} | Num_feats = {num_features}\")\n",
    "    S_mats = []\n",
    "    S_w = np.zeros((num_features, num_features))\n",
    "    for i in range(num_classes):\n",
    "        S_i = np.dot((class_wise_x_train[i] - class_wise_means[i]), (class_wise_x_train[i] - class_wise_means[i]).T)\n",
    "        # print(f\"shape of S_i = {S_i.shape}\")\n",
    "        S_mats.append(S_i)\n",
    "        S_w += S_i\n",
    "    # print(f\"Final shape S_w = {S_w.shape}\")\n",
    "    return S_w"
   ]
  },
  {
   "cell_type": "code",
   "execution_count": 115,
   "metadata": {},
   "outputs": [],
   "source": [
    "def get_S_b(total_x_train, S_w):\n",
    "    mean_X_total = np.mean(total_x_train, axis=1)\n",
    "    mean_X_total = mean_X_total.reshape((mean_X_total.shape[0], 1))\n",
    "    S_t = np.dot((total_x_train - mean_X_total), (total_x_train - mean_X_total).T)\n",
    "    S_b = S_t - S_w\n",
    "    return S_b"
   ]
  },
  {
   "cell_type": "code",
   "execution_count": 116,
   "metadata": {},
   "outputs": [],
   "source": [
    "def sort_eigenvectors(eigenvectors, eigenvalues):\n",
    "    eigenvectors_sorted_inc = eigenvectors[:, eigenvalues.argsort()]\n",
    "    eigenvectors_sorted_dec = np.flip(eigenvectors_sorted_inc, axis=1)\n",
    "    return eigenvectors_sorted_dec"
   ]
  },
  {
   "cell_type": "code",
   "execution_count": 117,
   "metadata": {},
   "outputs": [],
   "source": [
    "def perform_FDA(train_x, train_y):\n",
    "    class_wise_x_train, total_x_train = get_class_wise_data(train_x, train_y)\n",
    "    class_wise_means = get_class_wise_means(class_wise_x_train)\n",
    "    S_w = get_S_w(class_wise_x_train, class_wise_means)\n",
    "    S_b = get_S_b(total_x_train, S_w)\n",
    "    scat_prod = np.dot(np.linalg.inv(S_w), S_b)\n",
    "    un, eigenvalues, eigenvectors = np.linalg.svd(scat_prod)\n",
    "    W = sort_eigenvectors(eigenvectors, eigenvalues)[:, :9]\n",
    "    return W\n",
    "def project_data(X, W):\n",
    "    return np.dot(W.T, X)\n"
   ]
  },
  {
   "cell_type": "code",
   "execution_count": 118,
   "metadata": {},
   "outputs": [
    {
     "name": "stdout",
     "output_type": "stream",
     "text": [
      "(784, 784)\n"
     ]
    }
   ],
   "source": [
    "W = perform_FDA(train_x, train_y)"
   ]
  },
  {
   "cell_type": "code",
   "execution_count": 120,
   "metadata": {},
   "outputs": [],
   "source": [
    "def compute_accuracy(y_true, y_pred):\n",
    "    correct_classif = 0\n",
    "    total = len(y_true)\n",
    "    for i in range(total):\n",
    "        if(y_true[i] == y_pred[i]):\n",
    "            correct_classif += 1\n",
    "    return correct_classif / total"
   ]
  },
  {
   "cell_type": "code",
   "execution_count": 121,
   "metadata": {},
   "outputs": [],
   "source": [
    "projected_X_train = project_data(train_x.T, W)"
   ]
  },
  {
   "cell_type": "code",
   "execution_count": 122,
   "metadata": {},
   "outputs": [
    {
     "name": "stdout",
     "output_type": "stream",
     "text": [
      "projected X test shape = (9, 10000)\n"
     ]
    }
   ],
   "source": [
    "clf = LDA()\n",
    "clf.fit(projected_X_train.T, train_y)\n",
    "pickle.dump(clf, open(f'./models/q3_lda.sav', 'wb'))\n",
    "projected_X_test = project_data(test_x.T, W)\n",
    "y_preds = clf.predict(projected_X_test.T)"
   ]
  },
  {
   "cell_type": "code",
   "execution_count": 123,
   "metadata": {},
   "outputs": [
    {
     "name": "stdout",
     "output_type": "stream",
     "text": [
      "\n",
      "Overall accuracy = 0.6088\n",
      "\n",
      "-------------\n",
      "\n",
      "Class-wise accuracy for class-0 [T-shirt/top] : 0.647\n",
      "Class-wise accuracy for class-1 [Trouser] : 0.85\n",
      "Class-wise accuracy for class-2 [Pullover] : 0.402\n",
      "Class-wise accuracy for class-3 [Dress] : 0.647\n",
      "Class-wise accuracy for class-4 [Coat] : 0.545\n",
      "Class-wise accuracy for class-5 [Sandal] : 0.609\n",
      "Class-wise accuracy for class-6 [Shirt] : 0.197\n",
      "Class-wise accuracy for class-7 [Sneaker] : 0.749\n",
      "Class-wise accuracy for class-8 [Bag] : 0.609\n",
      "Class-wise accuracy for class-9 [Ankle boot] : 0.833\n"
     ]
    }
   ],
   "source": [
    "overall_accuracy = compute_accuracy(test_y, y_preds)\n",
    "print(f\"\\nOverall accuracy = {overall_accuracy}\\n\\n-------------\\n\")\n",
    "# #Class-wise-accuracy\n",
    "class_wise_accuracy = {}\n",
    "for lab in labels_to_name.keys():\n",
    "    class_idxs = np.where(test_y == lab)[0]\n",
    "    true_labs = test_y[class_idxs]\n",
    "    pred_labs = y_preds[class_idxs]\n",
    "    class_wise_accuracy[lab] = compute_accuracy(true_labs, pred_labs)\n",
    "for lab in class_wise_accuracy.keys():\n",
    "    print(f\"Class-wise accuracy for class-{lab} [{labels_to_name[lab]}] : {class_wise_accuracy[lab]}\")"
   ]
  }
 ],
 "metadata": {
  "interpreter": {
   "hash": "2370e07001db70a9c24f7e21173c51fbc4321340913a02830aed4885459fa0a0"
  },
  "kernelspec": {
   "display_name": "Python 3.8.10 64-bit",
   "language": "python",
   "name": "python3"
  },
  "language_info": {
   "codemirror_mode": {
    "name": "ipython",
    "version": 3
   },
   "file_extension": ".py",
   "mimetype": "text/x-python",
   "name": "python",
   "nbconvert_exporter": "python",
   "pygments_lexer": "ipython3",
   "version": "3.8.10"
  },
  "orig_nbformat": 4
 },
 "nbformat": 4,
 "nbformat_minor": 2
}
