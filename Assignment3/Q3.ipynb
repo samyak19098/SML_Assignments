{
 "cells": [
  {
   "cell_type": "code",
   "execution_count": 1,
   "metadata": {},
   "outputs": [],
   "source": [
    "import numpy as np\n",
    "import pandas as pd\n",
    "from sklearn.discriminant_analysis import LinearDiscriminantAnalysis as LDA\n",
    "import pickle\n",
    "import matplotlib.pyplot as plt\n",
    "import gzip"
   ]
  },
  {
   "cell_type": "code",
   "execution_count": 5,
   "metadata": {},
   "outputs": [],
   "source": [
    "train_data = pd.read_csv(\"./data/fmnist/fashion-mnist_train.csv\")\n",
    "test_data = pd.read_csv(\"./data/fmnist/fashion-mnist_test.csv\")"
   ]
  },
  {
   "cell_type": "code",
   "execution_count": 23,
   "metadata": {},
   "outputs": [],
   "source": [
    "train_x = np.array(train_data.iloc[:,1:])\n",
    "train_y = np.array(train_data.iloc[:, 0])\n",
    "test_x = np.array(test_data.iloc[:, 1:])\n",
    "test_y = np.array(test_data.iloc[:,0])\n",
    "labels_to_name = { 0:\"T-shirt/top\", 1 :\"Trouser\", 2 :\"Pullover\", 3 :\"Dress\", 4 :\"Coat\", 5 :\"Sandal\", 6 :\"Shirt\", 7 :\"Sneaker\", 8 :\"Bag\", 9 :\"Ankle boot\"}"
   ]
  }
 ],
 "metadata": {
  "interpreter": {
   "hash": "2370e07001db70a9c24f7e21173c51fbc4321340913a02830aed4885459fa0a0"
  },
  "kernelspec": {
   "display_name": "Python 3.8.10 64-bit",
   "language": "python",
   "name": "python3"
  },
  "language_info": {
   "codemirror_mode": {
    "name": "ipython",
    "version": 3
   },
   "file_extension": ".py",
   "mimetype": "text/x-python",
   "name": "python",
   "nbconvert_exporter": "python",
   "pygments_lexer": "ipython3",
   "version": "3.8.10"
  },
  "orig_nbformat": 4
 },
 "nbformat": 4,
 "nbformat_minor": 2
}
