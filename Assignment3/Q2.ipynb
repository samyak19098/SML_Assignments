{
 "cells": [
  {
   "cell_type": "code",
   "execution_count": 1,
   "metadata": {},
   "outputs": [],
   "source": [
    "import numpy as np\n",
    "from sklearn.discriminant_analysis import LinearDiscriminantAnalysis as LDA\n",
    "from sklearn.decomposition import PCA\n",
    "import pickle\n",
    "import matplotlib.pyplot as plt\n",
    "import gzip\n",
    "from sklearn.preprocessing import StandardScaler"
   ]
  },
  {
   "cell_type": "code",
   "execution_count": 2,
   "metadata": {},
   "outputs": [],
   "source": [
    "#dataset reading code is used as taught in the tutorial\n",
    "def read_image_data(file):\n",
    "    with gzip.open(file, 'r') as f:\n",
    "        magic_number = int.from_bytes(f.read(4), 'big')\n",
    "        image_count = int.from_bytes(f.read(4), 'big')\n",
    "        row_count = int.from_bytes(f.read(4), 'big')\n",
    "        column_count = int.from_bytes(f.read(4), 'big')\n",
    "        image_data = f.read()\n",
    "        images = np.frombuffer(image_data, dtype=np.uint8).reshape((image_count, row_count, column_count))\n",
    "        return images\n",
    "def read_label_data(file):\n",
    "    with gzip.open(file, 'r') as f:\n",
    "        magic_number = int.from_bytes(f.read(4), 'big')\n",
    "        label_count = int.from_bytes(f.read(4), 'big')\n",
    "        label_data = f.read()\n",
    "        labels = np.frombuffer(label_data, dtype=np.uint8)\n",
    "        return labels\n",
    "train_x = read_image_data(\"./data/mnist/mnist/train-images-idx3-ubyte.gz\")\n",
    "train_y = read_label_data(\"./data/mnist/mnist/train-labels-idx1-ubyte.gz\")\n",
    "test_x = read_image_data(\"./data/mnist/mnist/t10k-images-idx3-ubyte.gz\")\n",
    "test_y = read_label_data(\"./data/mnist/mnist/t10k-labels-idx1-ubyte.gz\")"
   ]
  },
  {
   "cell_type": "code",
   "execution_count": 3,
   "metadata": {},
   "outputs": [],
   "source": [
    "train_x_reshaped = train_x.reshape((train_x.shape[0], train_x.shape[1]*train_x.shape[2]))\n",
    "test_x_reshaped = test_x.reshape((test_x.shape[0], test_x.shape[1]*test_x.shape[2]))"
   ]
  },
  {
   "cell_type": "code",
   "execution_count": 4,
   "metadata": {},
   "outputs": [],
   "source": [
    "train_x_reshaped = StandardScaler().fit_transform(train_x_reshaped)\n",
    "test_x_reshaped = StandardScaler().fit_transform(test_x_reshaped)"
   ]
  },
  {
   "cell_type": "code",
   "execution_count": 5,
   "metadata": {},
   "outputs": [],
   "source": [
    "def compute_accuracy(y_true, y_pred):\n",
    "    correct_classif = 0\n",
    "    total = len(y_true)\n",
    "    for i in range(total):\n",
    "        if(y_true[i] == y_pred[i]):\n",
    "            correct_classif += 1\n",
    "    return correct_classif / total"
   ]
  },
  {
   "cell_type": "code",
   "execution_count": 6,
   "metadata": {},
   "outputs": [],
   "source": [
    "n_comps = [15, 8, 3]"
   ]
  },
  {
   "cell_type": "code",
   "execution_count": 7,
   "metadata": {},
   "outputs": [
    {
     "name": "stdout",
     "output_type": "stream",
     "text": [
      "---------- n_components = 15 ------------------\n",
      "\n",
      "Transformed train_x shape : (60000, 15)\n",
      "Tranformed test_x shape : (10000, 15)\n",
      "Accuracy on test dataset = 0.5456\n",
      "\n",
      "----------------------------------------------------\n",
      "\n",
      "---------- n_components = 8 ------------------\n",
      "\n",
      "Transformed train_x shape : (60000, 8)\n",
      "Tranformed test_x shape : (10000, 8)\n",
      "Accuracy on test dataset = 0.6787\n",
      "\n",
      "----------------------------------------------------\n",
      "\n",
      "---------- n_components = 3 ------------------\n",
      "\n",
      "Transformed train_x shape : (60000, 3)\n",
      "Tranformed test_x shape : (10000, 3)\n",
      "Accuracy on test dataset = 0.4089\n",
      "\n",
      "----------------------------------------------------\n",
      "\n"
     ]
    }
   ],
   "source": [
    "accuracy_vals = {}\n",
    "for n_comp in n_comps:\n",
    "\n",
    "    print(f\"---------- n_components = {n_comp} ------------------\\n\")\n",
    "    #transforming the dataset\n",
    "    pca = PCA(n_components=n_comp)\n",
    "    pca_transformed_train_x = pca.fit_transform(train_x_reshaped)\n",
    "    pca_transformed_test_x = pca.fit_transform(test_x_reshaped)\n",
    "    print(f\"Transformed train_x shape : {pca_transformed_train_x.shape}\")\n",
    "    print(f\"Tranformed test_x shape : {pca_transformed_test_x.shape}\")\n",
    "\n",
    "    #applying LDA\n",
    "    clf = LDA()\n",
    "    clf.fit(pca_transformed_train_x, train_y)\n",
    "    pickle.dump(clf, open(f'./models/q2_lda_n_comps_{n_comp}.sav', 'wb'))\n",
    "    #prediction part\n",
    "    y_preds = clf.predict(pca_transformed_test_x)\n",
    "    accuracy = compute_accuracy(test_y, y_preds)\n",
    "    accuracy_vals[n_comp] = accuracy\n",
    "    print(f\"Accuracy on test dataset = {accuracy}\")\n",
    "    print(\"\\n----------------------------------------------------\\n\")\n"
   ]
  },
  {
   "cell_type": "code",
   "execution_count": 8,
   "metadata": {},
   "outputs": [
    {
     "data": {
      "image/png": "[encoded data removed]",
      "text/plain": [
       "<Figure size 576x576 with 1 Axes>"
      ]
     },
     "metadata": {
      "needs_background": "light"
     },
     "output_type": "display_data"
    }
   ],
   "source": [
    "acc_val = accuracy_vals.values()\n",
    "fig, ax = plt.subplots(figsize=(8, 8))\n",
    "bars = ax.bar(n_comps, acc_val, width=2)\n",
    "ax.set_xticks(n_comps)\n",
    "ax.bar_label(bars)\n",
    "ax.set_xlabel(\"n_components\")\n",
    "ax.set_ylabel(\"Accuracy value\")\n",
    "plt.title(\"Accuracy value vs n_components\")\n",
    "plt.show()"
   ]
  }
 ],
 "metadata": {
  "interpreter": {
   "hash": "2370e07001db70a9c24f7e21173c51fbc4321340913a02830aed4885459fa0a0"
  },
  "kernelspec": {
   "display_name": "Python 3.8.10 64-bit",
   "language": "python",
   "name": "python3"
  },
  "language_info": {
   "codemirror_mode": {
    "name": "ipython",
    "version": 3
   },
   "file_extension": ".py",
   "mimetype": "text/x-python",
   "name": "python",
   "nbconvert_exporter": "python",
   "pygments_lexer": "ipython3",
   "version": "3.8.10"
  },
  "orig_nbformat": 4
 },
 "nbformat": 4,
 "nbformat_minor": 2
}
