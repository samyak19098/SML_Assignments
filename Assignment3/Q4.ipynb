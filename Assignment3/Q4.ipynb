{
 "cells": [
  {
   "cell_type": "code",
   "execution_count": 33,
   "metadata": {},
   "outputs": [],
   "source": [
    "import numpy as np\n",
    "from sklearn.discriminant_analysis import LinearDiscriminantAnalysis as LDA\n",
    "from sklearn.decomposition import PCA\n",
    "import pickle\n",
    "import matplotlib.pyplot as plt\n",
    "import gzip\n",
    "from sklearn.preprocessing import StandardScaler"
   ]
  },
  {
   "cell_type": "code",
   "execution_count": 34,
   "metadata": {},
   "outputs": [],
   "source": [
    "#dataset reading code is used as taught in the tutorial\n",
    "def read_image_data(file):\n",
    "    with gzip.open(file, 'r') as f:\n",
    "        magic_number = int.from_bytes(f.read(4), 'big')\n",
    "        image_count = int.from_bytes(f.read(4), 'big')\n",
    "        row_count = int.from_bytes(f.read(4), 'big')\n",
    "        column_count = int.from_bytes(f.read(4), 'big')\n",
    "        image_data = f.read()\n",
    "        images = np.frombuffer(image_data, dtype=np.uint8).reshape((image_count, row_count, column_count))\n",
    "        return images\n",
    "def read_label_data(file):\n",
    "    with gzip.open(file, 'r') as f:\n",
    "        magic_number = int.from_bytes(f.read(4), 'big')\n",
    "        label_count = int.from_bytes(f.read(4), 'big')\n",
    "        label_data = f.read()\n",
    "        labels = np.frombuffer(label_data, dtype=np.uint8)\n",
    "        return labels\n",
    "train_x = read_image_data(\"./data/mnist/mnist/train-images-idx3-ubyte.gz\")\n",
    "train_y = read_label_data(\"./data/mnist/mnist/train-labels-idx1-ubyte.gz\")\n",
    "test_x = read_image_data(\"./data/mnist/mnist/t10k-images-idx3-ubyte.gz\")\n",
    "test_y = read_label_data(\"./data/mnist/mnist/t10k-labels-idx1-ubyte.gz\")"
   ]
  },
  {
   "cell_type": "code",
   "execution_count": 35,
   "metadata": {},
   "outputs": [],
   "source": [
    "train_x_reshaped = train_x.reshape((train_x.shape[0], train_x.shape[1]*train_x.shape[2]))\n",
    "test_x_reshaped = test_x.reshape((test_x.shape[0], test_x.shape[1]*test_x.shape[2]))"
   ]
  },
  {
   "cell_type": "code",
   "execution_count": 36,
   "metadata": {},
   "outputs": [],
   "source": [
    "train_x_reshaped = StandardScaler().fit_transform(train_x_reshaped)\n",
    "test_x_reshaped = StandardScaler().fit_transform(test_x_reshaped)"
   ]
  },
  {
   "cell_type": "code",
   "execution_count": 37,
   "metadata": {},
   "outputs": [],
   "source": [
    "def compute_accuracy(y_true, y_pred):\n",
    "    correct_classif = 0\n",
    "    total = len(y_true)\n",
    "    for i in range(total):\n",
    "        if(y_true[i] == y_pred[i]):\n",
    "            correct_classif += 1\n",
    "    return correct_classif / total"
   ]
  },
  {
   "cell_type": "code",
   "execution_count": 38,
   "metadata": {},
   "outputs": [
    {
     "name": "stdout",
     "output_type": "stream",
     "text": [
      "Transformed train_x shape : (60000, 15)\n",
      "Tranformed test_x shape : (10000, 15)\n"
     ]
    }
   ],
   "source": [
    "best_n_comp = 15\n",
    "pca = PCA(n_components=best_n_comp)\n",
    "pca_transformed_train_x = pca.fit_transform(train_x_reshaped)\n",
    "pca_transformed_test_x = pca.transform(test_x_reshaped)\n",
    "print(f\"Transformed train_x shape : {pca_transformed_train_x.shape}\")\n",
    "print(f\"Tranformed test_x shape : {pca_transformed_test_x.shape}\")"
   ]
  },
  {
   "cell_type": "code",
   "execution_count": 39,
   "metadata": {},
   "outputs": [],
   "source": [
    "def get_class_wise_data(train_x, train_y):\n",
    "    class_wise_data = []\n",
    "    \n",
    "    for label in range(10):\n",
    "        # print(label)\n",
    "        label_idx = list(np.where(train_y == label)[0])\n",
    "        # print(f\"label_idx = {len(label_idx)}\")\n",
    "        class_x_data = train_x[label_idx].T\n",
    "        class_wise_data.append(class_x_data)\n",
    "    total_X_matrix = np.array(class_wise_data[0])\n",
    "    for label in range(1, 10):\n",
    "        total_X_matrix = np.concatenate((total_X_matrix, class_wise_data[label]), axis=1)\n",
    "        \n",
    "    return class_wise_data, total_X_matrix\n",
    "\n",
    "def get_class_wise_means(class_wise_x_train):\n",
    "    class_wise_means = []\n",
    "    for i in range(len(class_wise_x_train)):\n",
    "        mean_x_i = np.mean(class_wise_x_train[i], axis=1)\n",
    "        mean_x_i = mean_x_i.reshape(mean_x_i.shape[0], 1)\n",
    "        class_wise_means.append(mean_x_i)\n",
    "    return class_wise_means\n",
    "\n",
    "def get_S_w(class_wise_x_train, class_wise_means):\n",
    "    num_classes = len(class_wise_x_train)\n",
    "    num_features = class_wise_means[0].shape[0]\n",
    "    S_mats = []\n",
    "    S_w = np.zeros((num_features, num_features))\n",
    "    for i in range(num_classes):\n",
    "        S_i = np.dot((class_wise_x_train[i] - class_wise_means[i]), (class_wise_x_train[i] - class_wise_means[i]).T)\n",
    "        S_mats.append(S_i)\n",
    "        S_w += S_i\n",
    "    return S_w\n",
    "\n",
    "def get_S_b(total_x_train, S_w):\n",
    "    mean_X_total = np.mean(total_x_train, axis=1)\n",
    "    mean_X_total = mean_X_total.reshape((mean_X_total.shape[0], 1))\n",
    "    S_t = np.dot((total_x_train - mean_X_total), (total_x_train - mean_X_total).T)\n",
    "    S_b = S_t - S_w\n",
    "    return S_b\n",
    "\n",
    "def sort_eigen_vects(eigenvectors, eigenvalues):\n",
    "    val_to_vect = []\n",
    "    for i in range(len(eigenvalues)):\n",
    "        evec = eigenvectors[i, :]\n",
    "        val_to_vect.append((eigenvalues[i], evec))\n",
    "    sorted_vals = sorted(val_to_vect, key=lambda x : x[0], reverse=True)\n",
    "    sorted_evec = np.column_stack([x[1] for x in sorted_vals])\n",
    "    return sorted_evec\n",
    "\n",
    "def perform_FDA(train_x, train_y):\n",
    "    class_wise_x_train, total_x_train = get_class_wise_data(train_x, train_y)\n",
    "    class_wise_means = get_class_wise_means(class_wise_x_train)\n",
    "    S_w = get_S_w(class_wise_x_train, class_wise_means)\n",
    "    S_b = get_S_b(total_x_train, S_w)\n",
    "    scat_prod = np.dot(np.linalg.inv(S_w), S_b)\n",
    "    un, eigenvalues, eigenvectors = np.linalg.svd(scat_prod)\n",
    "    W = sort_eigen_vects(eigenvectors, eigenvalues)[:, :9]\n",
    "    return W\n",
    "def project_data(X, W):\n",
    "    return np.dot(W.T, X)\n"
   ]
  },
  {
   "cell_type": "code",
   "execution_count": 40,
   "metadata": {},
   "outputs": [],
   "source": [
    "W_fda = perform_FDA(pca_transformed_train_x, train_y)"
   ]
  },
  {
   "cell_type": "code",
   "execution_count": 41,
   "metadata": {},
   "outputs": [],
   "source": [
    "projected_X_train = project_data(pca_transformed_train_x.T, W_fda)\n",
    "projected_X_test = project_data(pca_transformed_test_x.T, W_fda)"
   ]
  },
  {
   "cell_type": "code",
   "execution_count": 42,
   "metadata": {},
   "outputs": [],
   "source": [
    "clf = LDA()\n",
    "clf.fit(projected_X_train.T, train_y)\n",
    "pickle.dump(clf, open(f'./models/q4_lda.sav', 'wb'))\n",
    "y_preds = clf.predict(projected_X_test.T)"
   ]
  },
  {
   "cell_type": "code",
   "execution_count": 43,
   "metadata": {},
   "outputs": [
    {
     "name": "stdout",
     "output_type": "stream",
     "text": [
      "\n",
      "Overall accuracy = 0.7645\n",
      "\n",
      "-------------\n",
      "\n",
      "Class-wise accuracy for class-0 : 0.7642857142857142\n",
      "Class-wise accuracy for class-1 : 0.960352422907489\n",
      "Class-wise accuracy for class-2 : 0.7315891472868217\n",
      "Class-wise accuracy for class-3 : 0.7930693069306931\n",
      "Class-wise accuracy for class-4 : 0.7627291242362525\n",
      "Class-wise accuracy for class-5 : 0.624439461883408\n",
      "Class-wise accuracy for class-6 : 0.8361169102296451\n",
      "Class-wise accuracy for class-7 : 0.7801556420233463\n",
      "Class-wise accuracy for class-8 : 0.6735112936344969\n",
      "Class-wise accuracy for class-9 : 0.6788899900891973\n"
     ]
    }
   ],
   "source": [
    "labels = [x for x in range(10)]\n",
    "overall_accuracy = compute_accuracy(test_y, y_preds)\n",
    "print(f\"\\nOverall accuracy = {overall_accuracy}\\n\\n-------------\\n\")\n",
    "# #Class-wise-accuracy\n",
    "class_wise_accuracy = {}\n",
    "for lab in labels:\n",
    "    class_idxs = np.where(test_y == lab)[0]\n",
    "    true_labs = test_y[class_idxs]\n",
    "    pred_labs = y_preds[class_idxs]\n",
    "    class_wise_accuracy[lab] = compute_accuracy(true_labs, pred_labs)\n",
    "for lab in class_wise_accuracy.keys():\n",
    "    print(f\"Class-wise accuracy for class-{lab} : {class_wise_accuracy[lab]}\")"
   ]
  }
 ],
 "metadata": {
  "interpreter": {
   "hash": "2370e07001db70a9c24f7e21173c51fbc4321340913a02830aed4885459fa0a0"
  },
  "kernelspec": {
   "display_name": "Python 3.8.10 64-bit",
   "language": "python",
   "name": "python3"
  },
  "language_info": {
   "codemirror_mode": {
    "name": "ipython",
    "version": 3
   },
   "file_extension": ".py",
   "mimetype": "text/x-python",
   "name": "python",
   "nbconvert_exporter": "python",
   "pygments_lexer": "ipython3",
   "version": "3.8.10"
  },
  "orig_nbformat": 4
 },
 "nbformat": 4,
 "nbformat_minor": 2
}
